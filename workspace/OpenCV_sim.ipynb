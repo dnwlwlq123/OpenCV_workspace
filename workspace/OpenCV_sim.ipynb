{
 "cells": [
  {
   "cell_type": "code",
   "execution_count": 1,
   "metadata": {},
   "outputs": [
    {
     "name": "stdout",
     "output_type": "stream",
     "text": [
      "Collecting opencv-python\n",
      "  Downloading opencv_python-4.10.0.84-cp37-abi3-win_amd64.whl.metadata (20 kB)\n",
      "Requirement already satisfied: numpy>=1.21.2 in c:\\users\\ktj\\appdata\\local\\programs\\python\\python311\\lib\\site-packages (from opencv-python) (1.26.4)\n",
      "Downloading opencv_python-4.10.0.84-cp37-abi3-win_amd64.whl (38.8 MB)\n",
      "   ---------------------------------------- 0.0/38.8 MB ? eta -:--:--\n",
      "   ---------------------------------------- 0.0/38.8 MB ? eta -:--:--\n",
      "    --------------------------------------- 0.7/38.8 MB 8.9 MB/s eta 0:00:05\n",
      "   -- ------------------------------------- 2.2/38.8 MB 17.7 MB/s eta 0:00:03\n",
      "   --- ------------------------------------ 3.2/38.8 MB 20.2 MB/s eta 0:00:02\n",
      "   --- ------------------------------------ 3.8/38.8 MB 17.3 MB/s eta 0:00:03\n",
      "   ----- ---------------------------------- 5.5/38.8 MB 20.7 MB/s eta 0:00:02\n",
      "   ------- -------------------------------- 7.5/38.8 MB 24.2 MB/s eta 0:00:02\n",
      "   ---------- ----------------------------- 9.8/38.8 MB 27.3 MB/s eta 0:00:02\n",
      "   ------------ --------------------------- 11.7/38.8 MB 34.4 MB/s eta 0:00:01\n",
      "   -------------- ------------------------- 13.7/38.8 MB 43.7 MB/s eta 0:00:01\n",
      "   --------------- ------------------------ 15.5/38.8 MB 43.5 MB/s eta 0:00:01\n",
      "   ------------------ --------------------- 17.9/38.8 MB 46.7 MB/s eta 0:00:01\n",
      "   -------------------- ------------------- 20.0/38.8 MB 46.7 MB/s eta 0:00:01\n",
      "   ---------------------- ----------------- 22.3/38.8 MB 46.7 MB/s eta 0:00:01\n",
      "   ------------------------- -------------- 24.6/38.8 MB 46.7 MB/s eta 0:00:01\n",
      "   --------------------------- ------------ 27.0/38.8 MB 50.1 MB/s eta 0:00:01\n",
      "   ------------------------------ --------- 29.4/38.8 MB 50.4 MB/s eta 0:00:01\n",
      "   -------------------------------- ------- 31.1/38.8 MB 46.9 MB/s eta 0:00:01\n",
      "   ---------------------------------- ----- 33.8/38.8 MB 50.4 MB/s eta 0:00:01\n",
      "   ------------------------------------- -- 36.0/38.8 MB 50.4 MB/s eta 0:00:01\n",
      "   ---------------------------------------  38.0/38.8 MB 50.4 MB/s eta 0:00:01\n",
      "   ---------------------------------------  38.8/38.8 MB 46.7 MB/s eta 0:00:01\n",
      "   ---------------------------------------  38.8/38.8 MB 46.7 MB/s eta 0:00:01\n",
      "   ---------------------------------------  38.8/38.8 MB 46.7 MB/s eta 0:00:01\n",
      "   ---------------------------------------- 38.8/38.8 MB 29.7 MB/s eta 0:00:00\n",
      "Installing collected packages: opencv-python\n",
      "Successfully installed opencv-python-4.10.0.84\n"
     ]
    },
    {
     "name": "stderr",
     "output_type": "stream",
     "text": [
      "\n",
      "[notice] A new release of pip is available: 24.0 -> 24.3.1\n",
      "[notice] To update, run: python.exe -m pip install --upgrade pip\n"
     ]
    }
   ],
   "source": [
    "!pip install opencv-python"
   ]
  },
  {
   "cell_type": "code",
   "execution_count": 2,
   "metadata": {},
   "outputs": [
    {
     "name": "stderr",
     "output_type": "stream",
     "text": [
      "'wget'��(��) ���� �Ǵ� �ܺ� ����, ������ �� �ִ� ���α׷�, �Ǵ�\n",
      "��ġ ������ �ƴմϴ�.\n"
     ]
    }
   ],
   "source": [
    "!wget https://raw.githubusercontent.com/Cobslab/imageBible/main/image/like_lenna224.png -O like_lenna.png"
   ]
  },
  {
   "cell_type": "code",
   "execution_count": 3,
   "metadata": {},
   "outputs": [],
   "source": [
    "#라이브러리 임포트\n",
    "import cv2\n",
    "#이미지 표현을 위한 맷플롯립\n",
    "import matplotlib.pyplot as plt\n",
    "#cv는 넘파이를 통해 데이터를 표현함\n",
    "import numpy as np\n",
    "\n",
    "image = cv2.imread('./like_lenna.png')"
   ]
  },
  {
   "cell_type": "code",
   "execution_count": null,
   "metadata": {},
   "outputs": [],
   "source": [
    "image.shape"
   ]
  },
  {
   "cell_type": "code",
   "execution_count": null,
   "metadata": {},
   "outputs": [],
   "source": [
    "# 이미지 출력\n",
    "plt.imshow(image)\n",
    "plt.axis('off')  # 축 숨기기\n",
    "plt.show()"
   ]
  },
  {
   "cell_type": "code",
   "execution_count": null,
   "metadata": {},
   "outputs": [],
   "source": [
    "gray = cv2.cvtColor(image, cv2.COLOR_RGB2GRAY)\n",
    "gray.shape"
   ]
  },
  {
   "cell_type": "code",
   "execution_count": null,
   "metadata": {},
   "outputs": [],
   "source": [
    "image = cv2.imread('./like_lenna.png', cv2.COLOR_BGR2RGB)\n",
    "\n",
    "# changed = cv2.cvtColor(image, cv2.옵션)\n",
    "plt.imshow(image )\n",
    "plt.axis('off')  # 축 숨기기\n",
    "plt.show()"
   ]
  },
  {
   "cell_type": "code",
   "execution_count": null,
   "metadata": {},
   "outputs": [],
   "source": [
    "print(f\"이미지 배열의 형태: {image.shape}\")"
   ]
  },
  {
   "cell_type": "code",
   "execution_count": null,
   "metadata": {},
   "outputs": [],
   "source": [
    "#색상의 공간을 변형할 수 있음.\n",
    "image = cv2.imread('./like_lenna.png', cv2.COLOR_BGR2HSV)\n",
    "plt.imshow(image )\n",
    "plt.axis('off')  # 축 숨기기\n",
    "plt.show()"
   ]
  },
  {
   "cell_type": "code",
   "execution_count": null,
   "metadata": {},
   "outputs": [],
   "source": [
    "#이미지의 배율 조정하기\n",
    "image_big = cv2.resize(image, dsize=None, fx=2, fy=2,)\n",
    "plt.imshow(image_big)\n",
    "plt.axis('off')  # 축 숨기기\n",
    "plt.show()"
   ]
  },
  {
   "cell_type": "code",
   "execution_count": null,
   "metadata": {},
   "outputs": [],
   "source": [
    "#이미지의 배율 조정하기\n",
    "image_big = cv2.resize(image, dsize=(100, 100), fx=2, fy=2,)\n",
    "print(f\"이미지 배열의 형태: {image_big.shape}\")\n",
    "plt.imshow(image_big)\n",
    "plt.axis('off')  # 축 숨기기\n",
    "plt.show()"
   ]
  },
  {
   "cell_type": "code",
   "execution_count": null,
   "metadata": {},
   "outputs": [],
   "source": [
    "#뒤집기(0, 1옵션)\n",
    "image_fliped = cv2.flip(image, 1)\n",
    "plt.imshow(image_fliped)\n",
    "plt.axis('off')  # 축 숨기기\n",
    "plt.show()"
   ]
  },
  {
   "cell_type": "code",
   "execution_count": null,
   "metadata": {},
   "outputs": [],
   "source": [
    "#세로-가로 주의\n",
    "t = image[:100, :100]\n",
    "plt.imshow(t)\n",
    "plt.axis('off')  # 축 숨기기\n",
    "plt.show()"
   ]
  },
  {
   "cell_type": "code",
   "execution_count": null,
   "metadata": {},
   "outputs": [],
   "source": [
    "croped_image = image[50:150, 50:150]\n",
    "croped_image[:] = 8\n",
    "plt.imshow(image)\n",
    "plt.axis('off')  # 축 숨기기\n",
    "plt.show()"
   ]
  },
  {
   "cell_type": "markdown",
   "metadata": {},
   "source": [
    "## ROI, COI\n",
    "\n",
    "ROI (Region of interest) : 관심있는 영역\n",
    "COI (Channel of Interest): 관심있는 채널"
   ]
  }
 ],
 "metadata": {
  "kernelspec": {
   "display_name": "Python 3",
   "language": "python",
   "name": "python3"
  },
  "language_info": {
   "codemirror_mode": {
    "name": "ipython",
    "version": 3
   },
   "file_extension": ".py",
   "mimetype": "text/x-python",
   "name": "python",
   "nbconvert_exporter": "python",
   "pygments_lexer": "ipython3",
   "version": "3.11.9"
  }
 },
 "nbformat": 4,
 "nbformat_minor": 2
}
