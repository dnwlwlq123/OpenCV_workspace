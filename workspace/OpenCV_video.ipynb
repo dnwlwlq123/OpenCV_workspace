{
 "cells": [
  {
   "cell_type": "code",
   "execution_count": null,
   "metadata": {},
   "outputs": [],
   "source": [
    "#파이썬-openCV 설치\n",
    "!pip install opencv-python"
   ]
  },
  {
   "cell_type": "code",
   "execution_count": null,
   "metadata": {},
   "outputs": [],
   "source": [
    "#라이브러리 임포트\n",
    "import cv2\n",
    "#이미지 표현을 위한 맷플롯립\n",
    "import matplotlib.pyplot as plt\n",
    "#cv는 넘파이를 통해 데이터를 표현함\n",
    "import numpy as np\n",
    "\n",
    "image = cv2.imread('./like_lenna.png')"
   ]
  },
  {
   "cell_type": "code",
   "execution_count": null,
   "metadata": {},
   "outputs": [],
   "source": [
    "#원본 영상 -> 이미지 경로에서 바로 받아온 값\n",
    "#src => 원본 영상에 대한 복사본\n",
    "src = image.copy()"
   ]
  },
  {
   "cell_type": "code",
   "execution_count": null,
   "metadata": {},
   "outputs": [],
   "source": [
    "# 이미지 복사: 원본 이미지를 수정하지 않기 위해 복사본을 만듭니다.\n",
    "src = image.copy()\n",
    "\n",
    "#0 => 어두운 픽셀 값 / 255 -> 밝은 픽셀값\n",
    "# 밝기 조정: cv2.add()를 사용해 이미지에 100을 더해 밝기를 높입니다.\n",
    "# OpenCV의 cv2.add()는 이미지의 각 픽셀에 값(100)을 더하여 밝기를 조정합니다.\n",
    "dst = cv2.add(src, 100)\n",
    "\n",
    "# 원본 이미지 출력: 원본 이미지를 matplotlib를 사용해 출력합니다.\n",
    "plt.imshow(src)\n",
    "plt.axis('off')  # 축 숨기기\n",
    "plt.show()\n",
    "\n",
    "# 밝기 조정된 이미지 출력: 밝기가 높아진 이미지를 출력합니다.\n",
    "plt.imshow(dst)\n",
    "plt.axis('off')  # 축 숨기기\n",
    "plt.show()"
   ]
  },
  {
   "cell_type": "code",
   "execution_count": null,
   "metadata": {},
   "outputs": [],
   "source": [
    "src = image.copy()\n",
    "\n",
    "# s > 1.0: 각 픽셀 값이 s만큼 곱해지면서 이미지가 더 밝아지고, 대비가 강해집니다.\n",
    "# s = 1.0: 이미지가 변경되지 않고 원본 이미지와 동일하게 유지됩니다.\n",
    "# 0 < s < 1.0: 이미지가 어두워지고 / 대비가 낮아집니다.\n",
    "s = 2.0\n",
    "dst = cv2.multiply(src, s)\n",
    "\n",
    "# 원본 이미지 출력: 원본 이미지를 matplotlib를 사용해 출력합니다.\n",
    "plt.imshow(src)\n",
    "plt.axis('off')  # 축 숨기기\n",
    "plt.show()\n",
    "\n",
    "# 밝기 조정된 이미지 출력: 밝기가 높아진 이미지를 출력합니다.\n",
    "plt.imshow(dst)\n",
    "plt.axis('off')  # 축 숨기기\n",
    "plt.show()"
   ]
  },
  {
   "cell_type": "code",
   "execution_count": null,
   "metadata": {},
   "outputs": [],
   "source": [
    "# 이미지 복사: 원본 이미지를 수정하지 않기 위해 복사본을 만듭니다.\n",
    "src = image.copy()\n",
    "\n",
    "channels = [0]           # 분석할 채널 (0은 그레이스케일 이미지 또는 BGR 이미지의 Blue 채널을 의미)\n",
    "histSize = [256]         # 히스토그램의 빈 개수 (0~255 범위에 대해 256개의 구간)\n",
    "histRange = [0, 256]     # 픽셀 값 범위 (0에서 256 미만)\n",
    "\n",
    "# 히스토그램 계산: src 이미지의 히스토그램을 계산하고 저장합니다.\n",
    "# 'channels'는 분석할 채널 (예: 그레이스케일에서는 [0])을 지정,\n",
    "# 'histSize'는 히스토그램 구간의 수 (0~255로 256개 구간),\n",
    "# 'histRange'는 픽셀 값 범위 (0~255)를 지정합니다.\n",
    "hist = cv2.calcHist([src], channels, None, histSize, histRange)\n",
    "\n",
    "# 히스토그램의 최대 값 찾기: 히스토그램에서 가장 높은 빈(bin)의 값을 찾습니다.\n",
    "# 이는 히스토그램의 상대적 크기를 표준화하여 시각화할 때 사용됩니다.\n",
    "histMax = np.max(hist)\n",
    "\n",
    "# 히스토그램 시각화 이미지 생성: 100x256 크기의 흰색 이미지를 생성합니다.\n",
    "# 100은 히스토그램의 높이, 256은 히스토그램의 너비이며, 픽셀 값 255는 흰색 배경을 의미합니다.\n",
    "imgHist = np.full((100, 256), 255, dtype=np.uint8)\n",
    "\n",
    "# 각 히스토그램 빈을 이미지에 선으로 그리기\n",
    "for x in range(256):\n",
    "    # pt1: 각 히스토그램 막대의 시작점 좌표 (x, 100)\n",
    "    # x는 가로 위치, 100은 이미지 하단 (y=100)에서 시작\n",
    "    pt1 = (x, 100)\n",
    "\n",
    "    # pt2: 각 히스토그램 막대의 끝점 좌표 (x, y)\n",
    "    # hist[x, 0] 값을 최대 값 (histMax)에 비례하여 축소, 100에서 빼줌으로써\n",
    "    # 히스토그램 값에 따라 막대의 높이가 조절됩니다.\n",
    "    pt2 = (x, 100 - int(hist[x, 0] * 100 / histMax))\n",
    "\n",
    "    # 히스토그램 선 그리기: pt1에서 pt2까지 검정색 (0) 선을 그려 히스토그램 막대 생성\n",
    "    cv2.line(imgHist, pt1, pt2, 0)\n",
    "\n",
    "# Colab에서 이미지 출력\n",
    "plt.imshow(imgHist, cmap='gray')\n",
    "plt.title('Histogram')\n",
    "plt.axis('off')  # 축 숨기기\n",
    "plt.show()"
   ]
  },
  {
   "cell_type": "code",
   "execution_count": null,
   "metadata": {},
   "outputs": [],
   "source": []
  },
  {
   "cell_type": "code",
   "execution_count": null,
   "metadata": {},
   "outputs": [],
   "source": []
  }
 ],
 "metadata": {
  "kernelspec": {
   "display_name": "Python 3",
   "language": "python",
   "name": "python3"
  },
  "language_info": {
   "name": "python",
   "version": "3.11.9"
  }
 },
 "nbformat": 4,
 "nbformat_minor": 2
}
