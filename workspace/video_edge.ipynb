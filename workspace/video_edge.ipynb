{
 "cells": [
  {
   "cell_type": "code",
   "execution_count": null,
   "metadata": {},
   "outputs": [],
   "source": [
    "#설치\n",
    "!pip install opencv-python"
   ]
  },
  {
   "cell_type": "code",
   "execution_count": null,
   "metadata": {},
   "outputs": [],
   "source": [
    "import cv2 #opencv라이브러리 임포트\n",
    "import numpy as np #이미지 데이터를 넘파이 행렬로 표현하기 때문\n",
    "\n",
    "#cv2.imshow()\n",
    "\n",
    "import matplotlib.pyplot as plt #코랩에서 이미지"
   ]
  },
  {
   "cell_type": "code",
   "execution_count": null,
   "metadata": {},
   "outputs": [],
   "source": [
    "from google.colab import drive\n",
    "drive.mount('/content/drive')"
   ]
  },
  {
   "cell_type": "code",
   "execution_count": null,
   "metadata": {},
   "outputs": [],
   "source": [
    "image_path = '/content/drive/MyDrive/2412_영등포새싹/특강 코드/man.jpg'"
   ]
  },
  {
   "cell_type": "code",
   "execution_count": null,
   "metadata": {},
   "outputs": [],
   "source": [
    "image = cv2.imread(image_path, cv2.IMREAD_COLOR)\n",
    "image = cv2.cvtColor(image, cv2.COLOR_BGR2RGB)\n",
    "\n",
    "#코랩에서 이미지를 출력하기 위함\n",
    "plt.imshow(image)\n",
    "plt.axis('off') #축이 그려지는 것을 금지\n",
    "plt.show()"
   ]
  },
  {
   "cell_type": "code",
   "execution_count": null,
   "metadata": {},
   "outputs": [],
   "source": [
    "image_gray = cv2.cvtColor(image, cv2.COLOR_RGB2GRAY)\n",
    "\n",
    "#threshold(임계값)\n",
    "#127보다 크면 255를 적용\n",
    "result, binary = cv2.threshold(image_gray, 80, 255, cv2.THRESH_BINARY)\n",
    "\n",
    "#코랩에서 이미지를 출력하기 위함\n",
    "plt.imshow(binary, cmap='gray')\n",
    "plt.axis('off') #축이 그려지는 것을 금지\n",
    "plt.show()"
   ]
  },
  {
   "cell_type": "code",
   "execution_count": null,
   "metadata": {},
   "outputs": [],
   "source": [
    "from google.colab import drive\n",
    "drive.mount('/content/drive', force_remount=True)"
   ]
  },
  {
   "cell_type": "code",
   "execution_count": null,
   "metadata": {},
   "outputs": [],
   "source": [
    "image_path = '/content/drive/MyDrive/2412_영등포새싹/특강 코드/copy.png'"
   ]
  },
  {
   "cell_type": "code",
   "execution_count": null,
   "metadata": {},
   "outputs": [],
   "source": [
    "src = cv2.imread(image_path)\n",
    "\n",
    "plt.imshow(src, cmap='gray')\n",
    "plt.axis('off')  # 축 숨기기\n",
    "plt.show()"
   ]
  },
  {
   "cell_type": "code",
   "execution_count": null,
   "metadata": {},
   "outputs": [],
   "source": [
    "#적응형 이진화\n",
    "image_gray = cv2.cvtColor(src, cv2.COLOR_BGR2GRAY)\n",
    "\n",
    "image_binary = cv2.adaptiveThreshold(\n",
    "    image_gray, #어떤 이미지에 적용할 것인가\n",
    "    255, #최댓값\n",
    "    cv2.ADAPTIVE_THRESH_MEAN_C, #적응형 이진화 적용 옵션(mean, 가우시안 값)\n",
    "    cv2.THRESH_BINARY,\n",
    "    5, #커널의 크기\n",
    "    4 #얼마나 값을 어둡게 조정할건가?\n",
    ")\n",
    "\n",
    "plt.imshow(image_binary, cmap='gray')\n",
    "plt.axis('off')\n",
    "plt.show()"
   ]
  },
  {
   "cell_type": "code",
   "execution_count": null,
   "metadata": {},
   "outputs": [],
   "source": [
    "image_path = '/content/drive/MyDrive/2412_영등포새싹/특강 코드/man.jpg'\n",
    "\n",
    "image = cv2.imread(image_path, cv2.COLOR_BGR2RGB)\n",
    "\n",
    "#블러\n",
    "image_ = cv2.blur()\n",
    "\n",
    "#캐니 엣지 디텍션\n",
    "image_canny = cv2.Canny(image)\n",
    "\n",
    "plt.imshow(image_canny)\n",
    "plt.axis('off')\n",
    "plt.show()"
   ]
  },
  {
   "cell_type": "markdown",
   "metadata": {},
   "source": [
    "## 침식 - 팽창\n",
    "- 침식 : 깎아낸다. (정말 강한 선만 남기고 애매한 것은 지우는)\n",
    "- 팽창 : 키워낸다. (아주 약한 선이라도 부풀려서 그려주는)"
   ]
  },
  {
   "cell_type": "code",
   "execution_count": null,
   "metadata": {},
   "outputs": [],
   "source": [
    "image_canny = cv2.Canny(image_, 150, 200)\n",
    "\n",
    "#커널**\n",
    "kernel = cv2.getStructuringElement(cv2.MORPH_RECT, (3,3))\n",
    "image_result = cv2.erode(image_canny, kernel, iterations=1)\n",
    "\n",
    "plt.imshow(image_result, cmap='gray')\n",
    "plt.axis('off')\n",
    "plt.show()"
   ]
  },
  {
   "cell_type": "code",
   "execution_count": null,
   "metadata": {},
   "outputs": [],
   "source": [
    "image_canny = cv2.Canny(image_, 150, 200)\n",
    "\n",
    "#커널**\n",
    "kernel = cv2.getStructuringElement(cv2.MORPH_RECT, (3,3))\n",
    "image_result = cv2.dilate(image_canny, kernel, iterations=1)\n",
    "\n",
    "plt.imshow(image_result, cmap='gray')\n",
    "plt.axis('off')\n",
    "plt.show()"
   ]
  },
  {
   "cell_type": "code",
   "execution_count": null,
   "metadata": {},
   "outputs": [],
   "source": [
    "#오픈\n",
    "image_canny = cv2.Canny(image_, 150, 200)\n",
    "\n",
    "#커널**\n",
    "kernel = cv2.getStructuringElement(cv2.MORPH_RECT, (3,3))\n",
    "#image_result = cv2.erode(image_canny, kernel, iterations=1)\n",
    "#image_result = cv2.dilate(image_result, kernel, iterations=1)\n",
    "\n",
    "#열림 모폴로지 연산.\n",
    "image_result = cv2.morphologyEx(image_canny, cv2.MORPH_OPEN, kernel)\n",
    "\n",
    "plt.imshow(image_result, cmap='gray')\n",
    "plt.axis('off')\n",
    "plt.show()"
   ]
  },
  {
   "cell_type": "code",
   "execution_count": null,
   "metadata": {},
   "outputs": [],
   "source": [
    "#닫힘 모폴로지 연산.\n",
    "image_result = cv2.morphologyEx(image_canny, cv2.MORPH_CLOSE, kernel)\n",
    "\n",
    "plt.imshow(image_result, cmap='gray')\n",
    "plt.axis('off')\n",
    "plt.show()"
   ]
  },
  {
   "cell_type": "code",
   "execution_count": null,
   "metadata": {},
   "outputs": [],
   "source": [
    "image_path = '/content/drive/MyDrive/2412_영등포새싹/특강 코드/sc.png'\n",
    "image = cv2.imread(image_path)\n",
    "\n",
    "plt.imshow(image, cmap='gray')\n",
    "plt.axis('off')\n",
    "plt.show()"
   ]
  },
  {
   "cell_type": "code",
   "execution_count": null,
   "metadata": {},
   "outputs": [],
   "source": [
    "#블러 처리 -> 허프 변환\n",
    "image = cv2.medianBlur(image, 5)\n",
    "\n",
    "#HoughLinesP (확률적 허프 변환)\n",
    "linesP = cv2.HoughLinesP(image, #어느 이미지에 적용할 것인가\n",
    "                         1,\n",
    "                         np.pi/180,\n",
    "                         50,\n",
    "                         None,\n",
    "                         50,\n",
    "                         5)\n",
    "#허프 변환을 원에 적용\n",
    "circles = cv2.HoughCircles(image, #어느 이미지에 적용할 것인가?\n",
    "                           cv2.HOUGH_GRADIENT, #허프변환 방법을 적용하는 옵션\n",
    "                           1, #픽셀 단위\n",
    "                           20, #원 중심 간의 최소 거리(이 거리보다 가까운 원은 하나의 원으로 간주)\n",
    "                           param1 = 100, #캐니엣지 검출의 임계값\n",
    "                           param2 = 30, #원 검출의 임계값(낮을수록 원이 잘 디텍팅 됨)\n",
    "                           minRadius = 1, #작은 원도 괜찮아!\n",
    "                           maxRadius = 100) #큰 원도 괜찮아!\n",
    "\n",
    "for c in circles[0,:]:\n",
    "    center = (c[0],c[1])\n",
    "    radius = c[2]\n",
    "\n",
    "    # 바깥원\n",
    "    cv2.circle(image,center,radius,(0,255,0),2)\n",
    "\n",
    "    # 중심원\n",
    "    cv2.circle(image,center,2,(0,0,255),3)\n",
    "\n",
    "plt.imshow(image, cmap='gray')\n",
    "plt.axis('off')  # 축 숨기기\n",
    "plt.show()"
   ]
  },
  {
   "cell_type": "code",
   "execution_count": null,
   "metadata": {},
   "outputs": [],
   "source": [
    "#그레이스케일 -> 블러 처리 -> 허프 변환\n",
    "image = cv2.imread(image_path, cv2.IMREAD_GRAYSCALE)\n",
    "image = cv2.medianBlur(image, 5)\n",
    "linesP = cv2.HoughLinesP(image, 1, np.pi / 180, 50, None, 50, 5)\n",
    "\n",
    "circles = cv2.HoughCircles(image,\n",
    "                           cv2.HOUGH_GRADIENT,\n",
    "                           1,\n",
    "                           20,\n",
    "                          param1=50,\n",
    "                           param2=35,\n",
    "                           minRadius=0,\n",
    "                           maxRadius=0)\n",
    "circles = np.uint16(np.around(circles))\n",
    "\n",
    "for c in circles[0,:]:\n",
    "\n",
    "    center = (c[0],c[1])\n",
    "    radius = c[2]\n",
    "\n",
    "    # 바깥원\n",
    "    cv2.circle(image,center,radius,(0,255,0),2)\n",
    "\n",
    "    # 중심원\n",
    "    cv2.circle(image,center,2,(0,0,255),3)\n",
    "\n",
    "plt.imshow(image, cmap='gray')\n",
    "plt.axis('off')  # 축 숨기기\n",
    "plt.show()"
   ]
  },
  {
   "cell_type": "code",
   "execution_count": null,
   "metadata": {},
   "outputs": [],
   "source": []
  },
  {
   "cell_type": "code",
   "execution_count": null,
   "metadata": {},
   "outputs": [],
   "source": []
  },
  {
   "cell_type": "code",
   "execution_count": null,
   "metadata": {},
   "outputs": [],
   "source": []
  },
  {
   "cell_type": "code",
   "execution_count": null,
   "metadata": {},
   "outputs": [],
   "source": []
  }
 ],
 "metadata": {
  "kernelspec": {
   "display_name": "Python 3",
   "language": "python",
   "name": "python3"
  },
  "language_info": {
   "name": "python",
   "version": "3.11.9"
  }
 },
 "nbformat": 4,
 "nbformat_minor": 2
}
